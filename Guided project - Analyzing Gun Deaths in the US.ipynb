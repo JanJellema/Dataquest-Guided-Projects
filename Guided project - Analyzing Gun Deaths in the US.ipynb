{
 "cells": [
  {
   "cell_type": "code",
   "execution_count": 1,
   "metadata": {
    "collapsed": false
   },
   "outputs": [
    {
     "name": "stdout",
     "output_type": "stream",
     "text": [
      "[['', 'year', 'month', 'intent', 'police', 'sex', 'age', 'race', 'hispanic', 'place', 'education'], ['1', '2012', '01', 'Suicide', '0', 'M', '34', 'Asian/Pacific Islander', '100', 'Home', '4'], ['2', '2012', '01', 'Suicide', '0', 'F', '21', 'White', '100', 'Street', '3'], ['3', '2012', '01', 'Suicide', '0', 'M', '60', 'White', '100', 'Other specified', '4'], ['4', '2012', '02', 'Suicide', '0', 'M', '64', 'White', '100', 'Home', '4']]\n"
     ]
    }
   ],
   "source": [
    "import csv\n",
    "f = open('guns.csv', 'r')\n",
    "data = csv.reader(f)\n",
    "\n",
    "data = list(data)\n",
    "print(data[0:5])"
   ]
  },
  {
   "cell_type": "code",
   "execution_count": 2,
   "metadata": {
    "collapsed": false
   },
   "outputs": [
    {
     "name": "stdout",
     "output_type": "stream",
     "text": [
      "['', 'year', 'month', 'intent', 'police', 'sex', 'age', 'race', 'hispanic', 'place', 'education']\n",
      "[['1', '2012', '01', 'Suicide', '0', 'M', '34', 'Asian/Pacific Islander', '100', 'Home', '4'], ['2', '2012', '01', 'Suicide', '0', 'F', '21', 'White', '100', 'Street', '3'], ['3', '2012', '01', 'Suicide', '0', 'M', '60', 'White', '100', 'Other specified', '4'], ['4', '2012', '02', 'Suicide', '0', 'M', '64', 'White', '100', 'Home', '4'], ['5', '2012', '02', 'Suicide', '0', 'M', '31', 'White', '100', 'Other specified', '2']]\n"
     ]
    }
   ],
   "source": [
    "headers = data[0]\n",
    "data = data[1:]\n",
    "\n",
    "print(headers)\n",
    "print(data[0:5])"
   ]
  },
  {
   "cell_type": "code",
   "execution_count": 3,
   "metadata": {
    "collapsed": false
   },
   "outputs": [
    {
     "name": "stdout",
     "output_type": "stream",
     "text": [
      "{'2014': 33599, '2012': 33563, '2013': 33636}\n"
     ]
    }
   ],
   "source": [
    "years = [row[1] for row in data]\n",
    "year_counts = {}\n",
    "for year in years:\n",
    "    if year in year_counts:\n",
    "        year_counts[year] += 1\n",
    "    else:\n",
    "        year_counts[year] = 1\n",
    "print(year_counts)"
   ]
  },
  {
   "cell_type": "code",
   "execution_count": 4,
   "metadata": {
    "collapsed": false
   },
   "outputs": [
    {
     "name": "stdout",
     "output_type": "stream",
     "text": [
      "[datetime.datetime(2012, 1, 1, 0, 0), datetime.datetime(2012, 1, 1, 0, 0), datetime.datetime(2012, 1, 1, 0, 0), datetime.datetime(2012, 2, 1, 0, 0), datetime.datetime(2012, 2, 1, 0, 0)]\n"
     ]
    }
   ],
   "source": [
    "import datetime\n",
    "dates = [datetime.datetime(int(row[1]), int(row[2]), 1) for row in data]\n",
    "print(dates[0:5])"
   ]
  },
  {
   "cell_type": "code",
   "execution_count": 5,
   "metadata": {
    "collapsed": false
   },
   "outputs": [
    {
     "name": "stdout",
     "output_type": "stream",
     "text": [
      "{datetime.datetime(2012, 6, 1, 0, 0): 2826, datetime.datetime(2013, 2, 1, 0, 0): 2375, datetime.datetime(2014, 12, 1, 0, 0): 2857, datetime.datetime(2014, 9, 1, 0, 0): 2914, datetime.datetime(2012, 9, 1, 0, 0): 2852, datetime.datetime(2012, 2, 1, 0, 0): 2357, datetime.datetime(2013, 1, 1, 0, 0): 2864, datetime.datetime(2012, 1, 1, 0, 0): 2758, datetime.datetime(2013, 5, 1, 0, 0): 2806, datetime.datetime(2013, 11, 1, 0, 0): 2758, datetime.datetime(2012, 7, 1, 0, 0): 3026, datetime.datetime(2014, 10, 1, 0, 0): 2865, datetime.datetime(2012, 8, 1, 0, 0): 2954, datetime.datetime(2014, 4, 1, 0, 0): 2862, datetime.datetime(2013, 7, 1, 0, 0): 3079, datetime.datetime(2014, 5, 1, 0, 0): 2864, datetime.datetime(2012, 12, 1, 0, 0): 2791, datetime.datetime(2013, 6, 1, 0, 0): 2920, datetime.datetime(2013, 10, 1, 0, 0): 2808, datetime.datetime(2013, 8, 1, 0, 0): 2859, datetime.datetime(2012, 11, 1, 0, 0): 2729, datetime.datetime(2014, 2, 1, 0, 0): 2361, datetime.datetime(2013, 9, 1, 0, 0): 2742, datetime.datetime(2012, 5, 1, 0, 0): 2999, datetime.datetime(2012, 10, 1, 0, 0): 2733, datetime.datetime(2014, 7, 1, 0, 0): 2884, datetime.datetime(2014, 3, 1, 0, 0): 2684, datetime.datetime(2012, 4, 1, 0, 0): 2795, datetime.datetime(2014, 8, 1, 0, 0): 2970, datetime.datetime(2013, 3, 1, 0, 0): 2862, datetime.datetime(2014, 11, 1, 0, 0): 2756, datetime.datetime(2014, 1, 1, 0, 0): 2651, datetime.datetime(2013, 12, 1, 0, 0): 2765, datetime.datetime(2013, 4, 1, 0, 0): 2798, datetime.datetime(2012, 3, 1, 0, 0): 2743, datetime.datetime(2014, 6, 1, 0, 0): 2931}\n"
     ]
    }
   ],
   "source": [
    "date_counts = {}\n",
    "for date in dates:\n",
    "    if date in date_counts:\n",
    "        date_counts[date] += 1\n",
    "    else:\n",
    "        date_counts[date] = 1\n",
    "print(date_counts)"
   ]
  },
  {
   "cell_type": "code",
   "execution_count": 6,
   "metadata": {
    "collapsed": false
   },
   "outputs": [
    {
     "name": "stdout",
     "output_type": "stream",
     "text": [
      "{'M': 86349, 'F': 14449}\n",
      "{'Asian/Pacific Islander': 1326, 'White': 66237, 'Hispanic': 9022, 'Black': 23296, 'Native American/Native Alaskan': 917}\n"
     ]
    }
   ],
   "source": [
    "sexes = [row[5] for row in data]\n",
    "sex_counts = {}\n",
    "for sex in sexes:\n",
    "    if sex in sex_counts:\n",
    "        sex_counts[sex] += 1\n",
    "    else:\n",
    "        sex_counts[sex] = 1\n",
    "print(sex_counts)\n",
    "\n",
    "races = [row[7] for row in data]\n",
    "race_counts = {}\n",
    "for race in races:\n",
    "    if race in race_counts:\n",
    "        race_counts[race] += 1\n",
    "    else:\n",
    "        race_counts[race] = 1\n",
    "print(race_counts)"
   ]
  },
  {
   "cell_type": "markdown",
   "metadata": {},
   "source": [
    "### What I've Learned So Far\n",
    "\n",
    "In this Guided project I'm working with a dataset on US Gun Deaths from 2012 to 2014. So far, I've looked at the number of gun deaths per year and month, and the sex and race of the victim. \n",
    "\n",
    "On a year-to-year basis there doesn't seem to be much difference. Looking at the numbers per month I can see the number of gun deaths drops during the winter months and peaks in the summer, which seems to make sense.\n",
    "\n",
    "When looking at the sex of the victims it's obvious the men are in the majority. This seems to underscore the common knowledge that men are more likely to die by gunshot in the US than women. There are a number of reasons for this, not the least of which is the fact that the majority of gun owners is male.\n",
    "\n",
    "At this point it's pretty much impossible to say anything about the number of gun deaths per race. For the simple reason that I currently don't have any information on US demographics during the period this dataset covers."
   ]
  },
  {
   "cell_type": "code",
   "execution_count": 7,
   "metadata": {
    "collapsed": false
   },
   "outputs": [
    {
     "name": "stdout",
     "output_type": "stream",
     "text": [
      "[['Id', 'Year', 'Id', 'Sex', 'Id', 'Hispanic Origin', 'Id', 'Id2', 'Geography', 'Total', 'Race Alone - White', 'Race Alone - Hispanic', 'Race Alone - Black or African American', 'Race Alone - American Indian and Alaska Native', 'Race Alone - Asian', 'Race Alone - Native Hawaiian and Other Pacific Islander', 'Two or More Races'], ['cen42010', 'April 1, 2010 Census', 'totsex', 'Both Sexes', 'tothisp', 'Total', '0100000US', '', 'United States', '308745538', '197318956', '44618105', '40250635', '3739506', '15159516', '674625', '6984195']]\n"
     ]
    }
   ],
   "source": [
    "f = open('census.csv', 'r')\n",
    "census = csv.reader(f)\n",
    "census = list(census)\n",
    "print(census)"
   ]
  },
  {
   "cell_type": "code",
   "execution_count": 8,
   "metadata": {
    "collapsed": false
   },
   "outputs": [
    {
     "name": "stdout",
     "output_type": "stream",
     "text": [
      "{'Asian/Pacific Islander': 8.374309664161762, 'White': 33.56849303419181, 'Native American/Native Alaskan': 24.521955573811088, 'Black': 57.8773477735196, 'Hispanic': 20.220491210910907}\n"
     ]
    }
   ],
   "source": [
    "mapping = {\n",
    "    'Asian/Pacific Islander' : 15159516 + 674625,\n",
    "    'White': 197318956, \n",
    "    'Hispanic': 44618105, \n",
    "    'Black': 40250635, \n",
    "    'Native American/Native Alaskan': 3739506,\n",
    "}\n",
    "\n",
    "race_per_hundredk = {}\n",
    "for race in race_counts:\n",
    "    race_per_hundredk[race] = race_counts[race] / mapping[race] * 100000\n",
    "\n",
    "print(race_per_hundredk)"
   ]
  },
  {
   "cell_type": "code",
   "execution_count": 9,
   "metadata": {
    "collapsed": false
   },
   "outputs": [
    {
     "name": "stdout",
     "output_type": "stream",
     "text": [
      "{'Asian/Pacific Islander': 3.530346230970155, 'White': 4.6356417981453335, 'Native American/Native Alaskan': 8.717729026240365, 'Black': 48.471284987180944, 'Hispanic': 12.627161104219914}\n"
     ]
    }
   ],
   "source": [
    "intents = [row[3] for row in data]\n",
    "races = [row[7] for row in data]\n",
    "\n",
    "homicide_race_counts = {}\n",
    "\n",
    "for i, race in enumerate(races):\n",
    "    if intents[i] == \"Homicide\":\n",
    "        if race in homicide_race_counts:\n",
    "            homicide_race_counts[race] += 1\n",
    "        else:\n",
    "            homicide_race_counts[race] = 1\n",
    "\n",
    "homicide_race_per_hundredk = {}\n",
    "for race in homicide_race_counts:\n",
    "    homicide_race_per_hundredk[race] = homicide_race_counts[race] / mapping[race] * 100000\n",
    "\n",
    "print(homicide_race_per_hundredk)"
   ]
  },
  {
   "cell_type": "markdown",
   "metadata": {},
   "source": [
    "### What I've Found\n",
    "\n",
    "It seems so obvious at this point it hardly needs stating: black Americans are twice as likely as white Americans to die by gunshot. Furthermore, the cause of death is more than ten times more likely to be Homicide. And to take it one step further, these numbers show that white Americans are least likely to die by homicide (with a gun, at least) of any race. \n",
    "\n",
    "### What I'd Like To Do Next\n",
    "\n",
    "This dataset contains information on the time, intent and place of gun deaths and the sex, age, race and level of education of the victims. I think it would be interesting to explore further patterns in these incidents. Is there a link between the sex of the victims and the time of year? Is there indeed a spike in suicides by gunshot during the holiday season? Are there links between intent and place, or intent and level of education or between place and sex or age? There is a lot to explore."
   ]
  },
  {
   "cell_type": "code",
   "execution_count": null,
   "metadata": {
    "collapsed": true
   },
   "outputs": [],
   "source": []
  }
 ],
 "metadata": {
  "kernelspec": {
   "display_name": "Python 3",
   "language": "python",
   "name": "python3"
  },
  "language_info": {
   "codemirror_mode": {
    "name": "ipython",
    "version": 3
   },
   "file_extension": ".py",
   "mimetype": "text/x-python",
   "name": "python",
   "nbconvert_exporter": "python",
   "pygments_lexer": "ipython3",
   "version": "3.4.3"
  }
 },
 "nbformat": 4,
 "nbformat_minor": 0
}
